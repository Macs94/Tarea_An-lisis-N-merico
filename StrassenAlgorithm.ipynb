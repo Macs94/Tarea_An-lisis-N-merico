{
 "cells": [
  {
   "cell_type": "markdown",
   "id": "9c5e33ae-d592-47fd-846f-b5d1a6739129",
   "metadata": {},
   "source": [
    "## Analisis Numérico Ciclo 01-2021\n",
    "                        \n",
    "### Integrantes de Grupo: \n",
    "\n",
    "##### Mario Andrés Cálix Sosa 00309119\n",
    "##### Kevin Alexander Cea Patriz 00203919\n",
    "##### Diego Ernesto Polanco Ortiz 00301417"
   ]
  },
  {
   "cell_type": "markdown",
   "id": "f597ee19-f9be-48c8-94f9-c60d402ec98e",
   "metadata": {},
   "source": [
    "# Algoritmo de Strassen para multiplicación de matrices cuadradas"
   ]
  },
  {
   "cell_type": "markdown",
   "id": "c6b38224-e5e7-4a08-bdcd-e9a8fdabdeed",
   "metadata": {},
   "source": [
    "## Introducción \n",
    "\n",
    "La multiplicación de dos matrices de tamaño $\\,N \\times N\\,$ A y B resultante en una matriz $\\,C=A \\times B\\,$ se calcula por medio de una formula\n",
    "\n",
    "general notada:  $$ C = AB := (c_{(i,j)}) = \\sum^n_{t=1}a_{(i,t)}b_{(t,j)} $$\n",
    "\n",
    "## Algoritmo de Dividir y Conquistar:\n",
    "\n",
    "Sean dos matrices A y B cuadradas y queremos calcular la matriz C como producto \n",
    "\n",
    "$ C = AB \\,$ con $ A,B,C \\in R^{2^{n} \\times 2^{n}} $  \n",
    "\n",
    "Tenemos entonces las matrices siguientes: $$ A = \\begin{pmatrix} A_{1,1} & A_{1.2} \\\\ A_{1,2} & A_{2,2} \\end{pmatrix} ,\n",
    "\\,\\,B = \\begin{pmatrix} A_{1,1} & B_{1.2} \\\\ B_{1,2} & B_{2,2} \\end{pmatrix} , \n",
    "C = \\begin{pmatrix} C_{1,1} & C_{1.2} \\\\ C_{1,2} & C_{2,2} \\end{pmatrix} $$\n",
    "\n",
    "\n",
    "De tal modo obtenemos entonces: \n",
    "$ C_{1,1} = A_{1,1}B_{1,1} \\,\\,+ A_{1,2}B_{2,1}\\\\\n",
    "C_{1,2} = A_{1,1}B_{1,2} \\,\\,+ A_{1,2}B_{2,2}\\\\\n",
    "C_{2,1} = A_{2,1}B_{1,1} \\,\\,+ A_{2,2}B_{2,1}\\\\\n",
    "C_{2,2} = A_{2,1}B_{1,2} \\,\\,+ A_{2,2}B_{2,2}\\\\ $\n",
    "\n",
    "Notamos de esta manera que existen 8 multiplicaciones que se efectuan para calcular la matriz $C_{i,j}$\n",
    "\n",
    "Podemos aplicar la misma formula para matrices de tamaño N de la siguiente manera:\n",
    "\n",
    "Sean A y B dos matrices cuadradas de tamaño $\\, N\\times N \\,\\,$ \n",
    "\n",
    "$ M_{1} , M_{2} , M_{3} , M_{4} \\,\\,$ submatrices de A de tamaño $\\, \\frac{N}{2} \\times \\frac{N}{2}$\n",
    "\n",
    "$ P_{1} , P_{2} , P_{3} , P_{4} \\,\\,$ submatrices de B de tamaño $ \\frac{N}{2} \\times \\frac{N}{2} $\n",
    "\n",
    "La matriz C resultante de la multiplicación entre A y B está dada por:\n",
    "\n",
    "$$ A = \\begin{pmatrix} M_{1} & M_{2} \\\\ M_{3} & M_{4} \\end{pmatrix} ,\n",
    "\\,\\,B = \\begin{pmatrix} P_{1} & P_{2} \\\\ P_{3} & P_{4} \\end{pmatrix} , \n",
    "C = \\begin{pmatrix} M_{1}P_{1}+M_{2}P_{3} & M_{1}P_{2}+M_{2}P_{4} \\\\ M_{3}P_{1}+M_{4}P_{3} & M_{3}P{2}+M_{4}P_{4} \\end{pmatrix} $$\n",
    "\n",
    "**_Recordar que dentro de las matrices A y B se trata de submatrices y por ende dentro de la matriz C son productos de matrices_**\n",
    "\n",
    "Este método es también conocido como Dividir y Conquistar, el objetivo del algortimo de Strassen es reducir el tiempo de ejecución u orden de complejidad del algoritmo anterior."
   ]
  },
  {
   "cell_type": "markdown",
   "id": "f89e9b93-a89a-4b57-a2b5-fb21a3231659",
   "metadata": {},
   "source": [
    "## Algoritmo de Strassen\n",
    "\n",
    "Vimos como en el método anterior las 8 multiplicaciones significan que en un eventual código tenemos 8 llamadas recursivas. \n",
    "La idea del método o algoritmo de Strassen es reducir el número de multiplicaciones y por ende llamadas recursivas dentro del código.\n",
    "El algoritmo de Strassen es similar al método visto anteriormente en el sentido que también divide las matrices iniciales en submatrices de tamaño $\\frac{N}{2} \\times \\frac{N}{2} $ cambiando la manera de calcular las submatrices.\n",
    "\n",
    "Las fórmulas que se siguen para el cálculo de submatrices son (tomando las mismas submatrices anteriores):\n",
    "\n",
    "$$ \n",
    "   K_{1} = M_{1}(P_{2}-P_{4})\\\\ \\\\\n",
    "   K_{2} = P_{4}(M_{1}+M_{2})\\\\ \\\\\n",
    "   K_{3} = P_{1}(M_{3}+M_{4})\\\\ \\\\\n",
    "   K_{4} = M_{4}(P_{3}-P_{1})\\\\ \\\\\n",
    "   K_{5} = (M_{1}+M_{4})(P_{1}+P_{4})\\\\ \\\\\n",
    "   K_{6} = (M_{2}-M_{4})(P_{3}+P_{4})\\\\ \\\\\n",
    "   K_{7} = (M_{1}-M_{3})(P_{1}+P_{2})\\\\ \n",
    "$$\n",
    "\n",
    "De tal manera que la multiplicación de las matrices A y B resultando en C queda como:\n",
    "\n",
    "$$\n",
    "A \\times B = \\begin{pmatrix} M_{1} & M_{2} \\\\ M_{3} & M_{4} \\end{pmatrix} \\times \\,\\,\\begin{pmatrix} P_{1} & P_{2} \\\\ P_{3} & P_{4} \\end{pmatrix} = \n",
    "\\begin{pmatrix} K_{5}+K_{4}-K_{2}+K_{6} & K_{1}+K_{2} \\\\ K_{3}+K_{4} & K_{1}+K_{5}-K_{3}-K_{7} \\end{pmatrix} = C\n",
    "$$"
   ]
  },
  {
   "cell_type": "markdown",
   "id": "11114eb7-af50-4a7b-a634-ae03fb0a4d84",
   "metadata": {},
   "source": [
    "## Orden de complejidad \n",
    "\n",
    "El orden de complejidad de la fórmula general de la multlipicación de una matriz es de O($N^{3}$)\n",
    "\n",
    "En el algoritmo de Dividir y Conquistar, mencionabamos que hacemos 8 multiplicaciones de dos matrices de tamaño $\\frac{N}{2} \\times \\frac{N}{2} $ junto con 4 sumas.\n",
    "\n",
    "El orden de complejidad puede entonces representarse como la suma de dos matrices junto con las multiplicaciones y tenemos gracias al teorema Maestro: \n",
    "\n",
    "\n",
    "_La suma de dos matrices puede considerarse de orden O($N^{2}$)_\n",
    "$$\n",
    "T(N) = 8 \\times (\\frac{N}{2}) + O(N^{2})\\\\\n",
    "a = 8 \\,,\\,\\, b = 2, \\,\\, \\log_{b}(a) = \\log_{2}(8) = 3 > 2\\\\\n",
    "T(N) = O(N^{\\log_{b}(a)} = O(N^{3})\n",
    "$$\n",
    "\n",
    "Mientras que el algoritmo de Strassen, hace 7 multiplicaciones, sumas y diferencias entre matrices. Con ayuda del teorema Maestro podemos expresar el orden de complejidad:\n",
    "_La suma y diferencia entre matrices puede considerarse de orden O($N^{2}$)_\n",
    "$$\n",
    "T(N) = 7 \\times (\\frac{N}{2}) + O(N^{2})\\\\\n",
    "a = 7 \\,,\\,\\, b = 2, \\,\\, \\log_{b}(a) = \\log_{2}(7) \\approx 2.8074 > 2\\\\\n",
    "T(N) = O(N^{\\log_{b}(a)} = O(N^{2.8})\n",
    "$$\n"
   ]
  },
  {
   "cell_type": "markdown",
   "id": "bfc7e776-64fa-4720-a116-a197ec11028c",
   "metadata": {},
   "source": [
    "## Código en python del algoritmo"
   ]
  },
  {
   "cell_type": "code",
   "execution_count": 150,
   "id": "b71b594f-7426-4d13-a465-b48da41062fc",
   "metadata": {},
   "outputs": [],
   "source": [
    "\"\"\"Importamos la librería numpy que nos dejará utilizar y operar con matrices\"\"\"\n",
    "import numpy as np"
   ]
  },
  {
   "cell_type": "code",
   "execution_count": 153,
   "id": "3efc063e-210e-4b31-baa3-136cece05d51",
   "metadata": {},
   "outputs": [],
   "source": [
    "\"\"\"\n",
    "Definición de la función submatrix que divide \n",
    "una matriz en cuartos.\n",
    "Recibe: matríz de tamaño NxN\n",
    "Devuelve: tupla con 4 (n/2)x(n/2) submatrices correspondientes: a,b,c,d \n",
    "\"\"\"\n",
    "def submatrix(matrix):\n",
    "    row, col = matrix.shape\n",
    "    rowN,colN = row//2,col//2\n",
    "    return matrix[:rowN,:colN],matrix[:rowN, colN:], matrix[rowN:, :colN], matrix[rowN:, colN:] "
   ]
  },
  {
   "cell_type": "code",
   "execution_count": 155,
   "id": "6998801d-9fb2-48ff-8773-0a87000df889",
   "metadata": {},
   "outputs": [],
   "source": [
    "\"\"\"\n",
    "Definición de la función principal de Strassen\n",
    "Calcula el producto matricial mediante las fórmulas de los productos de Strassen, de forma recursiva.\n",
    "Recibe: matriz NxN A and B\n",
    "Devuelve: matriz C. El producto de A por B\n",
    "\"\"\"\n",
    "def strassen(A,B):\n",
    "    #Caso base cuando el tamaño de la matriz sea 1x1 (multiplicación de dos números)\n",
    "    if len(A) == 1:\n",
    "        return A * B\n",
    "        #Dividiendo las matrices en cuadrantes. Esto se hará de forma recursiva hasta llegar al caso base \n",
    "    a, b, c, d = submatrix(A)\n",
    "    e, f, g, h = submatrix(B)\n",
    "\n",
    "    #Calculando los 7 productos de Strassen\n",
    "    p1 = strassen(a, f - h)\n",
    "    p2 = strassen(a + b, h)\n",
    "    p3 = strassen(c + d, e)\n",
    "    p4 = strassen(d, g - e)\n",
    "    p5 = strassen(a + d, e + h)\n",
    "    p6 = strassen(b - d, g + h)\n",
    "    p7 = strassen(a - c, e + f)\n",
    "\n",
    "    #Calculando los valores de los 4 cuatrantes de la matriz final medinate las formulas\n",
    "    c11 = p5 + p4 - p2 + p6\n",
    "    c12 = p1 + p2\n",
    "    c21 = p3 + p4\n",
    "    c22 = p1 + p5 - p3 - p7\n",
    "\n",
    "    #Dandole formato de matriz \n",
    "    c = np.vstack((np.hstack((c11, c12)), np.hstack((c21, c22))))\n",
    "\n",
    "    return c"
   ]
  },
  {
   "cell_type": "markdown",
   "id": "03537f35-6cd8-410d-af7c-a4f959b2cdfd",
   "metadata": {},
   "source": [
    "De esta manera tenemos el código de las funciones que utilizaremos para lograr la multiplicación de matrices por el método de Strassen:\n",
    "probemos primero con dos matrices de $2 \\times 2$ (utilizaremos una función que verifica que las matrices sean cuadradas y pares)"
   ]
  },
  {
   "cell_type": "code",
   "execution_count": 156,
   "id": "78875977-c430-4d21-9f59-1ef4cb71e2bb",
   "metadata": {},
   "outputs": [
    {
     "data": {
      "text/plain": [
       "matrix([[38, 31],\n",
       "        [62, 52]])"
      ]
     },
     "execution_count": 156,
     "metadata": {},
     "output_type": "execute_result"
    }
   ],
   "source": [
    "A = np.matrix([[1,5],[2,8]])\n",
    "B = np.matrix([[3,6],[7,5]])\n",
    "\"\"\"\n",
    "Utilizamos la función de numpy shape para definir cuantas dimensiones y cuantos elementos tiene dentro de estas dimensiones la matriz \n",
    "\"\"\"\n",
    "i,j = A.shape\n",
    "k,l = B.shape\n",
    "\n",
    "\"\"\"\n",
    "Definición de una función que verifica el tamaño de ambas matrices y únicamente llama el método de Strassen si se trata de matrices cuadradas\n",
    "Recibe: Dimensiones de las matrices A y B.\n",
    "Devuelve: Matriz C resultante de la multiplicación por el método de Strassen o un mensaje de error.\n",
    "\"\"\"\n",
    "def squareParity(i,k):\n",
    "    if(i%2==0 and k%2==0):\n",
    "    #Condición que asegura que las matrices sean cuadradas y pares\n",
    "        c = strassen(A, B)\n",
    "    else:\n",
    "        c =\"Error. No se puede usar el método de strassen\"\n",
    "\n",
    "    return c\n",
    "\n",
    "squareParity(i,k)"
   ]
  },
  {
   "cell_type": "markdown",
   "id": "d3b2b7b6-b162-4de8-a43d-9e38fb9bf45a",
   "metadata": {},
   "source": [
    "Con el código anterior obtenemos el resultado de la múltiplicación de $ A \\times B = C $:\n",
    "\n",
    "\n",
    "$$\n",
    "A \\times B = \\begin{pmatrix} 1 & 5 \\\\ 2 & 8 \\end{pmatrix} \\times \\begin{pmatrix} 3 & 6 \\\\ 7 & 5 \\end{pmatrix} =  \n",
    "\\begin{pmatrix} 38 & 31 \\\\ 62 & 52 \\end{pmatrix} = C\n",
    "$$"
   ]
  },
  {
   "cell_type": "markdown",
   "id": "364e5d21-5cf0-424c-ae5c-4c3b00c697bf",
   "metadata": {},
   "source": [
    "El siguiente ejemplo muestra que el código de Strassen no funciona con matrices que no sean cuadradas o pares:"
   ]
  },
  {
   "cell_type": "code",
   "execution_count": 157,
   "id": "4d810f24-61a9-4105-ad84-ac34f0c5b7e0",
   "metadata": {},
   "outputs": [
    {
     "data": {
      "text/plain": [
       "'Error. No se puede usar el método de strassen'"
      ]
     },
     "execution_count": 157,
     "metadata": {},
     "output_type": "execute_result"
    }
   ],
   "source": [
    "A = np.matrix([[1,2,3],[4,5,8],[7,6,16]])\n",
    "B = np.matrix([[7,4,3],[10,9,16],[12,11,15]])\n",
    "\n",
    "i,j = A.shape\n",
    "k,l = B.shape\n",
    "\n",
    "squareParity(i,k)"
   ]
  },
  {
   "cell_type": "markdown",
   "id": "440809e8-510e-415b-8b71-6dfc0e9cd45c",
   "metadata": {},
   "source": [
    "Con el siguiente ejemplo podemos comprobar que el código funciona con matrices pares:"
   ]
  },
  {
   "cell_type": "code",
   "execution_count": 158,
   "id": "2b0c919f-f172-43e4-b130-86bb719b93c9",
   "metadata": {},
   "outputs": [
    {
     "data": {
      "text/plain": [
       "matrix([[ 292,  435,  810,  513,  241,  235,  155,  204],\n",
       "        [ 556,  792, 1608,  752,  553,  437,  335,  409],\n",
       "        [ 498, 1300, 1095,  952,  457,  449,  352,  507],\n",
       "        [  39,  131,  144,   61,  100,   64,   42,   53],\n",
       "        [ 456,  526,  900,  368,  495,  425,  496,  571],\n",
       "        [ 446, 2111, 2140, 1119, 2933,  852,  717,  910],\n",
       "        [ 150,  412,  429,  305,  273,  146,  109,  145],\n",
       "        [ 650, 2161, 2615, 1152, 3025,  969,  876, 1070]])"
      ]
     },
     "execution_count": 158,
     "metadata": {},
     "output_type": "execute_result"
    }
   ],
   "source": [
    "A = np.matrix([[1,5,0,1,7,11,4,0],[2,8,3,2,12,14,4,8],[0,4,2,0,45,9,4,5],[1,2,1,0,0,1,2,0],[4,2,3,1,4,5,45,6],[21,4,56,3,7,9,2,4],[4,2,3,1,4,5,0,0],[21,4,56,3,7,9,11,12]])\n",
    "B = np.matrix([[6,45,0,11,7,6,7,9],[2,32,30,2,16,15,4,6],[0,14,22,8,45,9,7,9],[1,10,11,1,22,0,6,7],[4,24,3,13,4,5,4,7],[21,4,56,36,8,9,6,7],[4,2,3,1,4,5,7,8],[21,4,56,3,7,9,12,11]])\n",
    "\n",
    "i,j = A.shape\n",
    "k,f = B.shape\n",
    "\n",
    "squareParity(i,k)"
   ]
  },
  {
   "cell_type": "markdown",
   "id": "6e53ace6-26b2-4ff9-b124-cf4a14ed6e9e",
   "metadata": {},
   "source": [
    "## Tiempo de ejecucion en computadora\n",
    "\n",
    "La idea ahora es probar si efectivamente el método es más eficiente que el método regular de calcular multiplicación de matrices; tomamos entonces dos matrices:\n",
    "\n",
    "$$\n",
    "A = \\begin{pmatrix} 2 & 3 & 4 & 5 \\\\ 0 & 6 & 9 & 1 \\\\ 10 & 9 & 11 & 16 \\\\ 1 & 0 & 23 & 17\\end{pmatrix} ,\n",
    "\\,\\,B = \\begin{pmatrix} 21 & 13 & 4 & 7 \\\\ 1 & 3 & 6 & 11 \\\\ 10 & 4 & 3 & 15 \\\\ 11 & 0 & 13 & 18 \\end{pmatrix}\n",
    "$$"
   ]
  },
  {
   "cell_type": "code",
   "execution_count": 159,
   "id": "424deb9c-c4e0-46c9-89f0-8b79af7a9e24",
   "metadata": {},
   "outputs": [
    {
     "name": "stdout",
     "output_type": "stream",
     "text": [
      "[140, 51, 103, 197]\n",
      "[107, 54, 76, 219]\n",
      "[505, 201, 335, 622]\n",
      "[438, 105, 294, 658]\n",
      "5.5500000598840415e-05 segundos\n"
     ]
    }
   ],
   "source": [
    "\"\"\"Código de multiplicación de matrices con el algoritmo con iteraciones anidadas en \"\"\"\n",
    "from timeit import default_timer as timer\n",
    "\n",
    "X = [[2,3,4,5],[0,6,9,1],[10,9,11,16],[1,0,23,17]]\n",
    "Y = [[21,13,4,7],[1,3,6,11],[10,4,3,15],[11,0,13,18]]\n",
    "Z = [[0,0,0,0],[0,0,0,0],[0,0,0,0],[0,0,0,0]]\n",
    "def multiply(X,Y,Z):\n",
    "    for i in range(len(X)): \n",
    "        for j in range(len(Y[0])):\n",
    "               for k in range(len(Y)):\n",
    "                   Z[i][j] += X[i][k] * Y[k][j]\n",
    "    return Z\n",
    "start = timer()\n",
    "multiply(X,Y,Z)\n",
    "end = timer()\n",
    "for r in Z:\n",
    "    print(r)\n",
    "print(end-start, \"segundos\")    "
   ]
  },
  {
   "cell_type": "code",
   "execution_count": 145,
   "id": "d637571e-43b0-40eb-9f36-22b96893e70b",
   "metadata": {},
   "outputs": [
    {
     "name": "stdout",
     "output_type": "stream",
     "text": [
      "0.0012332999976933934 segundos\n"
     ]
    },
    {
     "data": {
      "text/plain": [
       "matrix([[140,  51, 103, 197],\n",
       "        [107,  54,  76, 219],\n",
       "        [505, 201, 335, 622],\n",
       "        [438, 105, 294, 658]])"
      ]
     },
     "execution_count": 145,
     "metadata": {},
     "output_type": "execute_result"
    }
   ],
   "source": [
    "A = np.matrix([[2,3,4,5],[0,6,9,1],[10,9,11,16],[1,0,23,17]])\n",
    "B = np.matrix([[21,13,4,7],[1,3,6,11],[10,4,3,15],[11,0,13,18]])\n",
    "\n",
    "i,j = A.shape\n",
    "k,f = B.shape\n",
    "\n",
    "def squareParity(i,k):\n",
    "    if(i%2==0 and k%2==0):\n",
    "    #Condición que asegura que las matrices sean cuadradas y pares\n",
    "        start = timer()\n",
    "        c = strassen(A, B)\n",
    "        end = timer()\n",
    "        print(end-start,\"segundos\")\n",
    "    else:\n",
    "        c =\"Error. No se puede usar el método de strassen\"\n",
    "\n",
    "    return c\n",
    "\n",
    "squareParity(i,k)"
   ]
  },
  {
   "cell_type": "markdown",
   "id": "3cccb4aa-2a24-49e2-92bc-4c47e281dfc2",
   "metadata": {},
   "source": [
    "Notamos como con una matriz pequeña no logramos consolidar que el algoritmo de Strassen tenga un menor tiempo de ejecución que el método regular de multiplicación de matrices asi que probemos con matrices de mayor orden."
   ]
  },
  {
   "cell_type": "code",
   "execution_count": 160,
   "id": "f677eada-50a5-4f47-b20a-bbb224e733d0",
   "metadata": {},
   "outputs": [
    {
     "name": "stdout",
     "output_type": "stream",
     "text": [
      "[292, 435, 810, 513, 241, 235, 155, 204]\n",
      "[556, 792, 1608, 752, 553, 437, 335, 409]\n",
      "[498, 1300, 1095, 952, 457, 449, 352, 507]\n",
      "[39, 131, 144, 61, 100, 64, 42, 53]\n",
      "[456, 526, 900, 368, 495, 425, 496, 571]\n",
      "[446, 2111, 2140, 1119, 2933, 852, 717, 910]\n",
      "[150, 412, 429, 305, 273, 146, 109, 145]\n",
      "[650, 2161, 2615, 1152, 3025, 969, 876, 1070]\n",
      "0.0001506000044173561 segundos\n"
     ]
    }
   ],
   "source": [
    "X = [[1,5,0,1,7,11,4,0],[2,8,3,2,12,14,4,8],[0,4,2,0,45,9,4,5],[1,2,1,0,0,1,2,0],[4,2,3,1,4,5,45,6],[21,4,56,3,7,9,2,4],[4,2,3,1,4,5,0,0],[21,4,56,3,7,9,11,12]]\n",
    "Y = [[6,45,0,11,7,6,7,9],[2,32,30,2,16,15,4,6],[0,14,22,8,45,9,7,9],[1,10,11,1,22,0,6,7],[4,24,3,13,4,5,4,7],[21,4,56,36,8,9,6,7],[4,2,3,1,4,5,7,8],[21,4,56,3,7,9,12,11]]\n",
    "Z = [[0,0,0,0,0,0,0,0],[0,0,0,0,0,0,0,0],[0,0,0,0,0,0,0,0],[0,0,0,0,0,0,0,0],[0,0,0,0,0,0,0,0],[0,0,0,0,0,0,0,0],[0,0,0,0,0,0,0,0],[0,0,0,0,0,0,0,0]]\n",
    "start = timer()\n",
    "multiply(X,Y,Z)\n",
    "end = timer()\n",
    "for r in Z:\n",
    "    print(r)\n",
    "print(end-start, \"segundos\") "
   ]
  },
  {
   "cell_type": "code",
   "execution_count": 161,
   "id": "3d4efebe-515f-4e59-a340-76b2d0ac9c97",
   "metadata": {},
   "outputs": [
    {
     "name": "stdout",
     "output_type": "stream",
     "text": [
      "0.009631200002331752 segundos\n"
     ]
    },
    {
     "data": {
      "text/plain": [
       "matrix([[ 292,  435,  810,  513,  241,  235,  155,  204],\n",
       "        [ 556,  792, 1608,  752,  553,  437,  335,  409],\n",
       "        [ 498, 1300, 1095,  952,  457,  449,  352,  507],\n",
       "        [  39,  131,  144,   61,  100,   64,   42,   53],\n",
       "        [ 456,  526,  900,  368,  495,  425,  496,  571],\n",
       "        [ 446, 2111, 2140, 1119, 2933,  852,  717,  910],\n",
       "        [ 150,  412,  429,  305,  273,  146,  109,  145],\n",
       "        [ 650, 2161, 2615, 1152, 3025,  969,  876, 1070]])"
      ]
     },
     "execution_count": 161,
     "metadata": {},
     "output_type": "execute_result"
    }
   ],
   "source": [
    "A = np.matrix([[1,5,0,1,7,11,4,0],[2,8,3,2,12,14,4,8],[0,4,2,0,45,9,4,5],[1,2,1,0,0,1,2,0],[4,2,3,1,4,5,45,6],[21,4,56,3,7,9,2,4],[4,2,3,1,4,5,0,0],[21,4,56,3,7,9,11,12]])\n",
    "B = np.matrix([[6,45,0,11,7,6,7,9],[2,32,30,2,16,15,4,6],[0,14,22,8,45,9,7,9],[1,10,11,1,22,0,6,7],[4,24,3,13,4,5,4,7],[21,4,56,36,8,9,6,7],[4,2,3,1,4,5,7,8],[21,4,56,3,7,9,12,11]])\n",
    "\n",
    "def squareParity(i,k):\n",
    "    if(i%2==0 and k%2==0):\n",
    "    #Condición que asegura que las matrices sean cuadradas y pares\n",
    "        start = timer()\n",
    "        c = strassen(A, B)\n",
    "        end = timer()\n",
    "        print(end-start,\"segundos\")\n",
    "    else:\n",
    "        c =\"Error. No se puede usar el método de strassen\"\n",
    "\n",
    "    return c\n",
    "\n",
    "squareParity(i,k)"
   ]
  },
  {
   "cell_type": "markdown",
   "id": "d767c873-f473-45d9-a9fc-082f98a88465",
   "metadata": {},
   "source": [
    "Utilizando matrices de orden $ 8 \\times 8 $ vemos que tampoco hay una mejora en el tiempo de ejecución utilizando el algoritmo de Strassen."
   ]
  },
  {
   "cell_type": "markdown",
   "id": "4ea9c699-1058-4642-b1b5-84a7930dcfd7",
   "metadata": {},
   "source": [
    "## Conclusión\n",
    "\n",
    "En conclusión, el algoritmo de Strassen mientras sea utilizado con matrices de orden \"pequeño\" no es una mejor alternativa que el método normal usando iteraciones.\n",
    "\n",
    "Sin embargo algo que se puede notar al medir el tiempo de ejecución de cada algoritmo es que el orden en que crece el tiempo de ejecución de cada algoritmo es notable. \n",
    "\n",
    "Es decir, cuando pasamos de una matríz $ 4 \\times 4 $ a una $ 8 \\times 8 $ el tiempo de ejecución para el algoritmo iterativo pasa de un orden de $ 10^{-5} $ a un orden de $ 10^{-4} $ mientras que para el algoritmo de Strassen quedamos en un orden de $ 10^{-3} $.\n",
    "\n",
    "Por tanto si seguimos subiendo de orden de matrices, podemos concluir que el algoritmo de Strassen tendrá un mejor tiempo de ejecución eventualmente como lo dicta el teorema Maestro. "
   ]
  },
  {
   "cell_type": "code",
   "execution_count": null,
   "id": "e78dda7b-107a-417b-8dd5-06a8de31fde3",
   "metadata": {},
   "outputs": [],
   "source": []
  }
 ],
 "metadata": {
  "kernelspec": {
   "display_name": "Python 3",
   "language": "python",
   "name": "python3"
  },
  "language_info": {
   "codemirror_mode": {
    "name": "ipython",
    "version": 3
   },
   "file_extension": ".py",
   "mimetype": "text/x-python",
   "name": "python",
   "nbconvert_exporter": "python",
   "pygments_lexer": "ipython3",
   "version": "3.8.8"
  }
 },
 "nbformat": 4,
 "nbformat_minor": 5
}
